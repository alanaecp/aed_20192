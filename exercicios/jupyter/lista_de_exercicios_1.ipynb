{
 "cells": [
  {
   "attachments": {},
   "cell_type": "markdown",
   "metadata": {},
   "source": [
    "## Lista de Exercícios"
   ]
  },
  {
   "cell_type": "markdown",
   "metadata": {},
   "source": [
    "#### 1º. Desafio: Crie uma lista chamada minha_lista com os seguintes itens: “Flash”, 100, “oi”, False, [], -1, 100. Para esta lista, escreva os seguintes comandos:\n",
    "\n",
    "- a)\tInserir “comida” e 100 no final da lista.\n",
    "- b)\tInserir “cachorro” na posição de índice 2.\n",
    "- c)\tInserir 99 no início da lista.\n",
    "- d)\tEncontrar o índice de “oi”.\n",
    "- e)\tContar o número de ocorrências de 100 na lista.\n",
    "- f)\tRemover a primeira ocorrência do número 100 da lista.\n"
   ]
  },
  {
   "cell_type": "code",
   "execution_count": null,
   "metadata": {},
   "outputs": [],
   "source": []
  },
  {
   "attachments": {},
   "cell_type": "markdown",
   "metadata": {},
   "source": [
    "#### 2º. Desafio: Escreva uma função calcula_minimo_2 que receba como entrada uma lista de números inteiros (tamanho mínimo da lista de 3 elementos) e retorna soma dos dois menores valores na lista. Por exemplo, calcula_minimo([4,3,6,1,2]) deve retornar 3 (1+2).  !"
   ]
  },
  {
   "cell_type": "code",
   "execution_count": null,
   "metadata": {},
   "outputs": [],
   "source": []
  },
  {
   "attachments": {},
   "cell_type": "markdown",
   "metadata": {},
   "source": [
    "#### 3º. Desafio: Escreva uma função soma_quadrados que receba uma lista de números e retorne a soma dos quadrados dos números na lista. Por exemplo, soma_dos_quadrados([2, 3, 4]) deve retorna 4+9+16 que é 29"
   ]
  },
  {
   "cell_type": "code",
   "execution_count": null,
   "metadata": {},
   "outputs": [],
   "source": []
  },
  {
   "attachments": {},
   "cell_type": "markdown",
   "metadata": {},
   "source": [
    "####  4º. Desafio: Crie uma função seleciona_alunos, que recebe uma lista de alunos e um valor inteiro correspondente a sua nota (Ex: [[‘Pedro’, 8], [‘Maria’, 9.5 ], ... ]), e retira todos os alunos da lista que possuem nota menor que 7.!"
   ]
  },
  {
   "cell_type": "code",
   "execution_count": null,
   "metadata": {},
   "outputs": [],
   "source": []
  },
  {
   "attachments": {},
   "cell_type": "markdown",
   "metadata": {},
   "source": [
    "#### 5º. Desafio: Escreva uma função chamada espelho que recebe uma strings como parâmetro e anexa o conteúdo da string a si mesma em ordem inversa. Por exemplo: [a, b, c] -> [a, b, c, c, b, a]"
   ]
  },
  {
   "cell_type": "code",
   "execution_count": null,
   "metadata": {},
   "outputs": [],
   "source": []
  },
  {
   "attachments": {},
   "cell_type": "markdown",
   "metadata": {},
   "source": [
    "#### 6º. Desafio: Escreva uma função quatidade_palavras_5 que receba uma lista de palavras e retorne o número de palavras na lista que tenham comprimento 5. Por exemplo,  quantidade_palavras_5(['Brasil','peralta','mesa','lance','teste']) deve retornar 2.!b"
   ]
  },
  {
   "cell_type": "code",
   "execution_count": null,
   "metadata": {},
   "outputs": [],
   "source": []
  },
  {
   "attachments": {},
   "cell_type": "markdown",
   "metadata": {},
   "source": [
    "#### 7º. Desafio: Escreva uma função radical que receba um radical e uma lista de palavras e retorne o número de palavras na lista que tenham o radical fornecido. Por exemplo,  radical(‘part’, ['partiu','parceiro','mesa','partida','parente']) deve retornar 2!"
   ]
  },
  {
   "cell_type": "code",
   "execution_count": null,
   "metadata": {},
   "outputs": [],
   "source": []
  },
  {
   "attachments": {},
   "cell_type": "markdown",
   "metadata": {},
   "source": [
    "#### 8º. Desafio:  Escreva uma função palavras_inicio_fim_iguais que receba como entrada uma lista de palavras e retorne a quantidade de palavras da lista que possuem 2 ou mais caracteres e cujos primeiro e últimos caracteres sejam iguais. Por exemplo,  palavras_inicio_fim_iguais(['aba', 'xyz', 'aa', 'x', 'bbb']) retorna 3.!"
   ]
  },
  {
   "cell_type": "code",
   "execution_count": null,
   "metadata": {},
   "outputs": [],
   "source": []
  },
  {
   "attachments": {},
   "cell_type": "markdown",
   "metadata": {},
   "source": [
    "#### 9º. Desafio: Um triângulo retângulo pode ter lados cujos comprimentos são todos inteiros. O conjunto de três valores inteiros para os comprimentos dos lados de um triângulo retângulo é chamado de Tripla de Pitágoras. Os comprimentos dos três lados devem obedecer à relação de que a soma dos quadrados de dois dos lados é igual ao quadrado da hipotenusa. Escreva um programa para identificar todas as triplas de Pitágoras para lado1, lado2 e hipotenusa, não maiores que 500. Utilize um método de força bruta, com um loop for triplamente aninhado que tenta todas as possibilidades.!"
   ]
  },
  {
   "cell_type": "code",
   "execution_count": null,
   "metadata": {},
   "outputs": [],
   "source": []
  },
  {
   "attachments": {},
   "cell_type": "markdown",
   "metadata": {},
   "source": [
    "#### 10º. Desafio: Escreva uma função troca que receba três strings str1, velho e novo e troca em str1 todas as ocorrências de velho por novo. Por exemplo, troca('Um aluno, dois alunos, tres alunos.','aluno','estudante') deve retornar a string 'Um estudante, dois estudante, tres estudantes.'. Observação: existe a função replace que faz isso, mas você não deve usá-la. (Dica: use os métodos split e join).!"
   ]
  },
  {
   "cell_type": "code",
   "execution_count": null,
   "metadata": {},
   "outputs": [],
   "source": []
  },
  {
   "cell_type": "markdown",
   "metadata": {},
   "source": [
    "#### 11º. Desafio: Escreva uma função soma_impares que receba uma lista de números inteiros e retorne a soma dos números ímpares na lista. Por exemplo, soma_impares([11,20,36,41,55,6]) deve retornar 107."
   ]
  },
  {
   "cell_type": "code",
   "execution_count": null,
   "metadata": {},
   "outputs": [],
   "source": []
  },
  {
   "cell_type": "markdown",
   "metadata": {},
   "source": [
    "#### 12º. Desafio: Escreva uma função quantidade_negativos que receba uma lista de números inteiros e retorne a quantidade de números negativos na lista. Por exemplo, quantidade_negativos([-1,-2,3,4,-5,-6]) deve retornar 4."
   ]
  },
  {
   "cell_type": "code",
   "execution_count": null,
   "metadata": {},
   "outputs": [],
   "source": []
  },
  {
   "attachments": {},
   "cell_type": "markdown",
   "metadata": {},
   "source": [
    "#### 13º. Desafio:  Qual o resultado de cada um dos comandos seguintes:!\n",
    "- a)\t'Python'[1]\n",
    "- b)\t'Strings são sequências de caracteres.'[5]\n",
    "- c)\tlen('maravilhoso')\n",
    "- d)\t'Misterio'[:4]\n",
    "- e)\t'p' in 'Pineapple\n",
    "- f)\t'apple' in 'Pineapple\n",
    "- g)\t'pear' not in 'Pineapple\n",
    "- h)\t'apple' > 'pineapple'\n",
    "- i)\t'pineapple' < 'Peach'\n"
   ]
  },
  {
   "cell_type": "code",
   "execution_count": null,
   "metadata": {},
   "outputs": [],
   "source": []
  },
  {
   "cell_type": "markdown",
   "metadata": {},
   "source": [
    "#### 14º. Desafio:  Escreva uma função nao_eh_ruim que receba como entrada uma string e encontre as primeiras ocorrências de 'nao eh' e de 'ruim'. Se 'nao' vier antes de 'ruim', deve-se substituir a expressão 'nao eh...ruim' por 'eh bom', retornando a nova string. Por exemplo,  nao_eh_ruim('Figado nao eh tao ruim') deve retornar 'Figado eh bom'. "
   ]
  },
  {
   "cell_type": "code",
   "execution_count": null,
   "metadata": {},
   "outputs": [],
   "source": []
  },
  {
   "cell_type": "markdown",
   "metadata": {},
   "source": [
    "#### 15º. Desafio: Calcule o valor de π usando a série infinita: \n",
    "\n",
    "\n",
    "\n",
    "#### Construa um dicionário que guarde a quantidade de termos da série e o valor de π correspondente. Por exemplo: {1:4, 2: 2.666666666666667, 3: 3.466666666666667 , .... } Quantos termos da série são necessários para obter 3,14? 3,141? 3,1415? 3,14159?"
   ]
  },
  {
   "cell_type": "code",
   "execution_count": null,
   "metadata": {},
   "outputs": [],
   "source": []
  }
 ],
 "metadata": {
  "kernelspec": {
   "display_name": "Python 3",
   "language": "python",
   "name": "python3"
  },
  "language_info": {
   "codemirror_mode": {
    "name": "ipython",
    "version": 3
   },
   "file_extension": ".py",
   "mimetype": "text/x-python",
   "name": "python",
   "nbconvert_exporter": "python",
   "pygments_lexer": "ipython3",
   "version": "3.7.0"
  }
 },
 "nbformat": 4,
 "nbformat_minor": 2
}
