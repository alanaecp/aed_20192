{
 "cells": [
  {
   "cell_type": "markdown",
   "metadata": {},
   "source": [
    "# Listas em Python"
   ]
  },
  {
   "cell_type": "markdown",
   "metadata": {},
   "source": [
    "### 1)  Dada uma lista L de números inteiros, escreva uma função que retorne uma lista P contendo os números pares de L. Observação: utilize criação implícita de listas.\n"
   ]
  },
  {
   "cell_type": "code",
   "execution_count": 3,
   "metadata": {},
   "outputs": [],
   "source": [
    "def pares(L):\n",
    "    P = [x for x in L if x%2 ==0]\n",
    "    return P"
   ]
  },
  {
   "cell_type": "code",
   "execution_count": 15,
   "metadata": {},
   "outputs": [
    {
     "name": "stdout",
     "output_type": "stream",
     "text": [
      "[2, 0, 56, 12, 34, 108, 0]\n"
     ]
    }
   ],
   "source": [
    "numeros = [45, 2, 89, 0,45,56,45,12,34,5,108, 0]\n",
    "\n",
    "print(pares(numeros))"
   ]
  },
  {
   "cell_type": "markdown",
   "metadata": {},
   "source": [
    "### 2) Dada uma lista L de números inteiros, escreva uma função que imprima todos os números de índices múltiplos de 3. \n"
   ]
  },
  {
   "cell_type": "code",
   "execution_count": 5,
   "metadata": {},
   "outputs": [],
   "source": [
    "def idx_mult3(L):\n",
    "    P = [v for i,v in enumerate(L) if i%3 ==0]\n",
    "    return P"
   ]
  },
  {
   "cell_type": "code",
   "execution_count": 6,
   "metadata": {},
   "outputs": [
    {
     "name": "stdout",
     "output_type": "stream",
     "text": [
      "[2, 12, 108]\n"
     ]
    }
   ],
   "source": [
    "print(idx_mult3(numeros))"
   ]
  },
  {
   "cell_type": "markdown",
   "metadata": {},
   "source": [
    "### 3) Dada uma lista L de números inteiros, escreva uma função retorne uma lista P contendo todos os itens de L acrescidos em 10%.\n"
   ]
  },
  {
   "cell_type": "code",
   "execution_count": 9,
   "metadata": {},
   "outputs": [],
   "source": [
    "def mais10perc(L):\n",
    "    P = [round(v*1.1,2) for v in L]\n",
    "    return P"
   ]
  },
  {
   "cell_type": "code",
   "execution_count": 10,
   "metadata": {},
   "outputs": [
    {
     "name": "stdout",
     "output_type": "stream",
     "text": [
      "[2.2, 97.9, 49.5, 13.2, 37.4, 5.5, 118.8, 0.0]\n"
     ]
    }
   ],
   "source": [
    "print(mais10perc(numeros))"
   ]
  },
  {
   "cell_type": "markdown",
   "metadata": {},
   "source": [
    "### 4) Dada uma lista L de números inteiros, escreva uma função que imprima os itens de L de trás para frente, sem utilizar reverse().\n"
   ]
  },
  {
   "cell_type": "code",
   "execution_count": 11,
   "metadata": {},
   "outputs": [],
   "source": [
    "def inverte(L):\n",
    "    return L[::-1]"
   ]
  },
  {
   "cell_type": "code",
   "execution_count": 12,
   "metadata": {},
   "outputs": [
    {
     "name": "stdout",
     "output_type": "stream",
     "text": [
      "[0, 108, 5, 34, 12, 45, 89, 2]\n"
     ]
    }
   ],
   "source": [
    "print(inverte(numeros))"
   ]
  },
  {
   "cell_type": "markdown",
   "metadata": {},
   "source": [
    "### 5) Dada uma lista L de números inteiros, escreva uma função que retorne uma lista P contendo os itens de L sem repetição\n"
   ]
  },
  {
   "cell_type": "code",
   "execution_count": 16,
   "metadata": {},
   "outputs": [],
   "source": [
    "def remove_repeticao(L):\n",
    "    P = []\n",
    "    for v in L:\n",
    "        if v not in P:\n",
    "            P.append(v)\n",
    "    return P"
   ]
  },
  {
   "cell_type": "code",
   "execution_count": 18,
   "metadata": {},
   "outputs": [
    {
     "name": "stdout",
     "output_type": "stream",
     "text": [
      "[45, 2, 89, 0, 45, 56, 45, 12, 34, 5, 108, 0]\n",
      "[45, 2, 89, 0, 56, 12, 34, 5, 108]\n"
     ]
    }
   ],
   "source": [
    "print(numeros)\n",
    "print(remove_repeticao(numeros))"
   ]
  },
  {
   "cell_type": "markdown",
   "metadata": {},
   "source": [
    "### 6)  Dada uma lista L de números inteiros, escreva uma função que imprima os índices de todas as ocorrências de um número especificado.\n"
   ]
  },
  {
   "cell_type": "code",
   "execution_count": 19,
   "metadata": {},
   "outputs": [],
   "source": [
    "def print_idx(L, n):\n",
    "    P = []\n",
    "    for idx, v in enumerate(L):\n",
    "        if v == n:\n",
    "            print(idx)"
   ]
  },
  {
   "cell_type": "code",
   "execution_count": 21,
   "metadata": {},
   "outputs": [
    {
     "name": "stdout",
     "output_type": "stream",
     "text": [
      "0\n",
      "4\n",
      "6\n"
     ]
    }
   ],
   "source": [
    "print_idx(numeros, 45)"
   ]
  },
  {
   "cell_type": "markdown",
   "metadata": {},
   "source": [
    "### 7) Dada uma lista L de números inteiros, escreva uma função que retorne uma lista P com os valores ordenados de P, agrupados em números pares primeiro e ímpares depois.\n"
   ]
  },
  {
   "cell_type": "code",
   "execution_count": 24,
   "metadata": {},
   "outputs": [],
   "source": [
    "def pares_impares(L):\n",
    "    P = []\n",
    "    I = []\n",
    "    for num in sorted(L):\n",
    "        if num %2 ==0:\n",
    "            P.append(num)\n",
    "        else:\n",
    "            I.append(num)\n",
    "    return P + I"
   ]
  },
  {
   "cell_type": "code",
   "execution_count": 25,
   "metadata": {},
   "outputs": [
    {
     "name": "stdout",
     "output_type": "stream",
     "text": [
      "[0, 0, 2, 12, 34, 56, 108, 5, 45, 45, 45, 89]\n"
     ]
    }
   ],
   "source": [
    "print(pares_impares(numeros))"
   ]
  },
  {
   "cell_type": "markdown",
   "metadata": {},
   "source": [
    "### 8) Faça um programa que leia duas listas com 10 elementos cada. Gere uma terceira lista de 20 elementos, cujos valores deverão ser compostos pelos elementos intercalados das duas outras listas.\n"
   ]
  },
  {
   "cell_type": "code",
   "execution_count": 26,
   "metadata": {},
   "outputs": [],
   "source": [
    "numeros = [1,2,3,4,5,6,7,8,9,10]\n",
    "letras = ['a', 'b', 'c', 'd', 'e', 'f', 'g', 'h', 'i', 'f']\n"
   ]
  },
  {
   "cell_type": "code",
   "execution_count": 27,
   "metadata": {},
   "outputs": [],
   "source": [
    "def concatena(l1,l2):\n",
    "    l3 = []\n",
    "    for i in range(len(l1)):\n",
    "        l3.append(l1[i])        \n",
    "        l3.append(l2[i])\n",
    "    return l3"
   ]
  },
  {
   "cell_type": "code",
   "execution_count": 28,
   "metadata": {},
   "outputs": [
    {
     "name": "stdout",
     "output_type": "stream",
     "text": [
      "[1, 'a', 2, 'b', 3, 'c', 4, 'd', 5, 'e', 6, 'f', 7, 'g', 8, 'h', 9, 'i', 10, 'f']\n"
     ]
    }
   ],
   "source": [
    "print(concatena(numeros, letras))"
   ]
  },
  {
   "cell_type": "code",
   "execution_count": 29,
   "metadata": {},
   "outputs": [
    {
     "name": "stdout",
     "output_type": "stream",
     "text": [
      "['a', 1, 'b', 2, 'c', 3, 'd', 4, 'e', 5, 'f', 6, 'g', 7, 'h', 8, 'i', 9, 'f', 10]\n"
     ]
    }
   ],
   "source": [
    "print(concatena(letras, numeros))"
   ]
  },
  {
   "cell_type": "code",
   "execution_count": null,
   "metadata": {},
   "outputs": [],
   "source": []
  }
 ],
 "metadata": {
  "kernelspec": {
   "display_name": "Python 3",
   "language": "python",
   "name": "python3"
  },
  "language_info": {
   "codemirror_mode": {
    "name": "ipython",
    "version": 3
   },
   "file_extension": ".py",
   "mimetype": "text/x-python",
   "name": "python",
   "nbconvert_exporter": "python",
   "pygments_lexer": "ipython3",
   "version": "3.7.4"
  }
 },
 "nbformat": 4,
 "nbformat_minor": 2
}
