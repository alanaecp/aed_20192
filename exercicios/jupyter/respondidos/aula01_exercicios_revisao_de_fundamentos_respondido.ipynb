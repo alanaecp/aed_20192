{
 "cells": [
  {
   "cell_type": "markdown",
   "metadata": {},
   "source": [
    "# ESTRUTURAS DE REPETIÇÃO"
   ]
  },
  {
   "cell_type": "markdown",
   "metadata": {},
   "source": [
    "### 1) Escreva um programa que calcule a soma dos números de 1 a 100.\n"
   ]
  },
  {
   "cell_type": "code",
   "execution_count": 1,
   "metadata": {},
   "outputs": [
    {
     "name": "stdout",
     "output_type": "stream",
     "text": [
      "5050\n"
     ]
    }
   ],
   "source": [
    "soma = 0\n",
    "for i in range(1, 101):\n",
    "    soma += i\n",
    "print(soma)"
   ]
  },
  {
   "cell_type": "code",
   "execution_count": 2,
   "metadata": {},
   "outputs": [
    {
     "data": {
      "text/plain": [
       "5050"
      ]
     },
     "execution_count": 2,
     "metadata": {},
     "output_type": "execute_result"
    }
   ],
   "source": [
    "sum(range(1, 101))"
   ]
  },
  {
   "cell_type": "markdown",
   "metadata": {},
   "source": [
    "### 2) Escreva um programa que escolha aleatoriamente um numero entre 0 e 10, ao qual o usuário deve tentar adivinhar. O jogo acaba quando o usuário acerta ou quando ele desiste (digitando 0)."
   ]
  },
  {
   "cell_type": "code",
   "execution_count": 4,
   "metadata": {},
   "outputs": [],
   "source": [
    "from random import randint"
   ]
  },
  {
   "cell_type": "code",
   "execution_count": 5,
   "metadata": {},
   "outputs": [],
   "source": [
    "numero = randint(0,10)"
   ]
  },
  {
   "cell_type": "code",
   "execution_count": 6,
   "metadata": {},
   "outputs": [
    {
     "name": "stdout",
     "output_type": "stream",
     "text": [
      "Digite um número entre 0 e 10:\t4\n",
      "Tente Novamente!\n",
      "Digite um número entre 0 e 10:\t2\n",
      "Você acertou!\n"
     ]
    }
   ],
   "source": [
    "while 1:\n",
    "    palpite = input('Digite um número entre 0 e 10:\\t')\n",
    "    if numero == int(palpite):\n",
    "        print('Você acertou!')\n",
    "        break\n",
    "    else:\n",
    "        print('Tente Novamente!')"
   ]
  },
  {
   "cell_type": "markdown",
   "metadata": {},
   "source": [
    "### 3) Usando o comando WHILE, escreva um algoritmo que leia o código do item pedido, a quantidade e calcule o valor a ser pago por aquele lanche. O algoritmo só finaliza se o código informado por -999.\n",
    "\n",
    "O cardápio de uma lanchonete é o seguinte:\n",
    "\n",
    "| Código | Descrição      | Valor   |\n",
    "|--------|----------------|---------|\n",
    "| 100    |Cachorro quente |1,10     |\n",
    "| 101    |Bauru simples   |1,30     |\n",
    "| 102    |Bauru c/ovo \t  |1,50     |\n",
    "| 103    |Hamburger \t  |1,10     |\n",
    "| 105    |Refrigerante \t  |1,00     |\n",
    "\n"
   ]
  },
  {
   "cell_type": "code",
   "execution_count": 8,
   "metadata": {},
   "outputs": [
    {
     "name": "stdout",
     "output_type": "stream",
     "text": [
      "Digite o código. OU -999 para sair:\t100\n",
      "Digite o código. OU -999 para sair:\t105\n",
      "Digite o código. OU -999 para sair:\t103\n",
      "Digite o código. OU -999 para sair:\t105\n",
      "Digite o código. OU -999 para sair:\t-999\n",
      "O total é R$ 4.2\n"
     ]
    }
   ],
   "source": [
    "total = 0\n",
    "while True:\n",
    "    codigo = int(input('Digite o código. OU -999 para sair:\\t'))\n",
    "    if codigo == -999:\n",
    "        break\n",
    "    \n",
    "    else:\n",
    "        if codigo == 100: total += 1.1\n",
    "        elif codigo == 101: total += 1.3\n",
    "        elif codigo == 102: total += 1.5\n",
    "        elif codigo == 103: total += 1.1\n",
    "        elif codigo == 105: total += 1.0\n",
    "        \n",
    "        else: \n",
    "            print('Codigo inválido! Tente novamente')\n",
    "        \n",
    "        \n",
    "        \n",
    "print('O total é R$ {}'.format(total))"
   ]
  },
  {
   "cell_type": "markdown",
   "metadata": {},
   "source": [
    "### 4) Usando o comando WHILE, escreva um programa que calcule e mostre o seno dos ângulos entre 0 e 360 (de 10 em 10) "
   ]
  },
  {
   "cell_type": "code",
   "execution_count": 15,
   "metadata": {},
   "outputs": [],
   "source": [
    "from math import sin, radians"
   ]
  },
  {
   "cell_type": "code",
   "execution_count": 16,
   "metadata": {},
   "outputs": [],
   "source": [
    "# math.sin(x)\n",
    "# Return the sine of x radians."
   ]
  },
  {
   "cell_type": "code",
   "execution_count": 20,
   "metadata": {},
   "outputs": [
    {
     "name": "stdout",
     "output_type": "stream",
     "text": [
      "0 0.0\n",
      "10 0.17\n",
      "20 0.34\n",
      "30 0.5\n",
      "40 0.64\n",
      "50 0.77\n",
      "60 0.87\n",
      "70 0.94\n",
      "80 0.98\n",
      "90 1.0\n",
      "100 0.98\n",
      "110 0.94\n",
      "120 0.87\n",
      "130 0.77\n",
      "140 0.64\n",
      "150 0.5\n",
      "160 0.34\n",
      "170 0.17\n",
      "180 0.0\n",
      "190 -0.17\n",
      "200 -0.34\n",
      "210 -0.5\n",
      "220 -0.64\n",
      "230 -0.77\n",
      "240 -0.87\n",
      "250 -0.94\n",
      "260 -0.98\n",
      "270 -1.0\n",
      "280 -0.98\n",
      "290 -0.94\n",
      "300 -0.87\n",
      "310 -0.77\n",
      "320 -0.64\n",
      "330 -0.5\n",
      "340 -0.34\n",
      "350 -0.17\n",
      "360 -0.0\n"
     ]
    }
   ],
   "source": [
    "for x in range(0, 361, 10):\n",
    "    print(x, round(sin(radians(x)),2 ))"
   ]
  },
  {
   "cell_type": "markdown",
   "metadata": {},
   "source": [
    "### 5) Usando o comando FOR, escreva um programa que some todos os números entre 0 e 99."
   ]
  },
  {
   "cell_type": "code",
   "execution_count": 21,
   "metadata": {},
   "outputs": [
    {
     "name": "stdout",
     "output_type": "stream",
     "text": [
      "4950\n"
     ]
    }
   ],
   "source": [
    "soma = 0\n",
    "for i in range(0, 100):\n",
    "    soma += i\n",
    "print(soma)"
   ]
  },
  {
   "cell_type": "code",
   "execution_count": null,
   "metadata": {},
   "outputs": [],
   "source": []
  },
  {
   "cell_type": "markdown",
   "metadata": {},
   "source": [
    "### 6) Usando o comando FOR, escreva um programa que mostre todos os multiplos de 5 entre 0 e 50. "
   ]
  },
  {
   "cell_type": "code",
   "execution_count": 23,
   "metadata": {},
   "outputs": [
    {
     "name": "stdout",
     "output_type": "stream",
     "text": [
      "0\n",
      "5\n",
      "10\n",
      "15\n",
      "20\n",
      "25\n",
      "30\n",
      "35\n",
      "40\n",
      "45\n",
      "50\n"
     ]
    }
   ],
   "source": [
    "for numero in range(0, 51,5):\n",
    "    print(numero)"
   ]
  },
  {
   "cell_type": "markdown",
   "metadata": {},
   "source": [
    "### 7) Escreva um programa que mostre os dias da semana da lista abaixo:"
   ]
  },
  {
   "cell_type": "code",
   "execution_count": 28,
   "metadata": {},
   "outputs": [],
   "source": [
    "dias_da_semana = ['segunda-feira', 'terça-feira','quarta-feira', 'quinta-feira', 'sexta-feira', 'sábado', 'domingo' ]"
   ]
  },
  {
   "cell_type": "code",
   "execution_count": 29,
   "metadata": {},
   "outputs": [
    {
     "name": "stdout",
     "output_type": "stream",
     "text": [
      "segunda-feira\n",
      "terça-feira\n",
      "quarta-feira\n",
      "quinta-feira\n",
      "sexta-feira\n",
      "sábado\n",
      "domingo\n"
     ]
    }
   ],
   "source": [
    "for dia in dias_da_semana:\n",
    "    print(dia)"
   ]
  },
  {
   "cell_type": "markdown",
   "metadata": {},
   "source": [
    "### 8) Escreva um programa que leia 10 valores, encontra o maior e o menor deles e mostra o resultado.\n"
   ]
  },
  {
   "cell_type": "code",
   "execution_count": 33,
   "metadata": {},
   "outputs": [
    {
     "name": "stdout",
     "output_type": "stream",
     "text": [
      "Digite o 1 numero:\t1\n",
      "Digite o 2 numero:\t2\n",
      "Digite o 3 numero:\t3\n",
      "Digite o 4 numero:\t4\n",
      "Digite o 5 numero:\t5\n",
      "Digite o 6 numero:\t6\n",
      "Digite o 7 numero:\t7\n",
      "Digite o 8 numero:\t8\n",
      "Digite o 9 numero:\t9\n",
      "Digite o 10 numero:\t-10\n",
      "O maior número foi: 9.0\n",
      "O menor número foi: -10.0\n"
     ]
    }
   ],
   "source": [
    "for i in range(10):\n",
    "    numero = float(input('Digite o {} numero:\\t'.format(i+1)))\n",
    "    if i == 0:\n",
    "        maior = numero\n",
    "        menor = numero\n",
    "    else:\n",
    "        if numero > maior: maior = numero\n",
    "        if numero < menor: menor = numero\n",
    "            \n",
    "print('O maior número foi: {}\\nO menor número foi: {}'.format(maior, menor))\n",
    "    "
   ]
  },
  {
   "cell_type": "markdown",
   "metadata": {},
   "source": [
    "##### 9)  Construa um Algoritmo que, para um grupo de 10 valores inteiros, determine:\n",
    "- A soma dos números positivos;\n",
    "- A quantidade de valores negativos;\n",
    "- só finaliza se o código informado por -999.\n",
    " "
   ]
  },
  {
   "cell_type": "code",
   "execution_count": null,
   "metadata": {},
   "outputs": [],
   "source": []
  },
  {
   "cell_type": "markdown",
   "metadata": {},
   "source": [
    "### 10) Faça um programa que calcule e escreva a seguinte soma:\n",
    "- soma = 1/1 + 3/2 + 5/3 + 7/4 + ... + 99/50\n"
   ]
  },
  {
   "cell_type": "code",
   "execution_count": 42,
   "metadata": {},
   "outputs": [],
   "source": [
    "numerador = list(range(1, 100, 2))\n",
    "denominador = list(range(1, 51))"
   ]
  },
  {
   "cell_type": "code",
   "execution_count": 49,
   "metadata": {},
   "outputs": [
    {
     "name": "stdout",
     "output_type": "stream",
     "text": [
      "95.5007946616706\n"
     ]
    }
   ],
   "source": [
    "termos = []\n",
    "for x in range(len(numerador)):\n",
    "    termos.append(numerador[x]/ denominador[x])\n",
    "    #print('{}/{} = {}'.format(numerador[x], denominador[x], numerador[x]/ denominador[x]))\n",
    "print(sum(termos))"
   ]
  },
  {
   "cell_type": "code",
   "execution_count": null,
   "metadata": {},
   "outputs": [],
   "source": []
  }
 ],
 "metadata": {
  "kernelspec": {
   "display_name": "Python 3",
   "language": "python",
   "name": "python3"
  },
  "language_info": {
   "codemirror_mode": {
    "name": "ipython",
    "version": 3
   },
   "file_extension": ".py",
   "mimetype": "text/x-python",
   "name": "python",
   "nbconvert_exporter": "python",
   "pygments_lexer": "ipython3",
   "version": "3.7.0"
  }
 },
 "nbformat": 4,
 "nbformat_minor": 2
}
