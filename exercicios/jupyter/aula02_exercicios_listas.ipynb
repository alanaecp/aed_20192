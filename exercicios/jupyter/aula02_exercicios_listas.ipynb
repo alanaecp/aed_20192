{
 "cells": [
  {
   "cell_type": "markdown",
   "metadata": {},
   "source": [
    "# Listas em Python"
   ]
  },
  {
   "cell_type": "markdown",
   "metadata": {},
   "source": [
    "### 1)  Dada uma lista L de números inteiros, escreva uma função que retorne uma lista P contendo os números pares de L. Observação: utilize criação implícita de listas.\n"
   ]
  },
  {
   "cell_type": "code",
   "execution_count": 1,
   "metadata": {},
   "outputs": [],
   "source": [
    "l1 = [2,34,5,6,77,12,23,90]"
   ]
  },
  {
   "cell_type": "code",
   "execution_count": 2,
   "metadata": {},
   "outputs": [],
   "source": [
    "def pares(lista):\n",
    "    P = []\n",
    "    for valor in lista:\n",
    "        if valor %2 == 0:\n",
    "            P.append(valor)\n",
    "    return P"
   ]
  },
  {
   "cell_type": "code",
   "execution_count": 3,
   "metadata": {},
   "outputs": [
    {
     "name": "stdout",
     "output_type": "stream",
     "text": [
      "[2, 34, 6, 12, 90]\n"
     ]
    }
   ],
   "source": [
    "print(pares(l1))"
   ]
  },
  {
   "cell_type": "code",
   "execution_count": 4,
   "metadata": {},
   "outputs": [],
   "source": [
    "def pares2(lista):\n",
    "    return [valor for valor in lista if valor%2==0]\n"
   ]
  },
  {
   "cell_type": "code",
   "execution_count": 5,
   "metadata": {},
   "outputs": [
    {
     "name": "stdout",
     "output_type": "stream",
     "text": [
      "[2, 34, 6, 12, 90]\n"
     ]
    }
   ],
   "source": [
    "print(pares2(l1))"
   ]
  },
  {
   "cell_type": "markdown",
   "metadata": {},
   "source": [
    "### 2) Dada uma lista L de números inteiros, escreva uma função que imprima todos os números de índices múltiplos de 3. \n"
   ]
  },
  {
   "cell_type": "code",
   "execution_count": null,
   "metadata": {},
   "outputs": [],
   "source": []
  },
  {
   "cell_type": "markdown",
   "metadata": {},
   "source": [
    "### 3) Dada uma lista L de números inteiros, escreva uma função retorne uma lista P contendo todos os itens de L acrescidos em 10%.\n"
   ]
  },
  {
   "cell_type": "code",
   "execution_count": 10,
   "metadata": {},
   "outputs": [],
   "source": [
    "def mais10perc(lista):\n",
    "    P = []\n",
    "    for valor in lista:\n",
    "        P.append(round(valor*1.1,2))\n",
    "    return P"
   ]
  },
  {
   "cell_type": "code",
   "execution_count": 11,
   "metadata": {},
   "outputs": [
    {
     "name": "stdout",
     "output_type": "stream",
     "text": [
      "[2, 34, 5, 6, 77, 12, 23, 90]\n",
      "[2.2, 37.4, 5.5, 6.6, 84.7, 13.2, 25.3, 99.0]\n"
     ]
    }
   ],
   "source": [
    "print(l1)\n",
    "print(mais10perc(l1))"
   ]
  },
  {
   "cell_type": "code",
   "execution_count": 13,
   "metadata": {},
   "outputs": [],
   "source": [
    "def mais10perc2(lista):\n",
    "    return [round(x*1.1,2) for x in lista]\n"
   ]
  },
  {
   "cell_type": "code",
   "execution_count": 14,
   "metadata": {},
   "outputs": [
    {
     "name": "stdout",
     "output_type": "stream",
     "text": [
      "[2, 34, 5, 6, 77, 12, 23, 90]\n",
      "[2.2, 37.4, 5.5, 6.6, 84.7, 13.2, 25.3, 99.0]\n",
      "[2.2, 37.4, 5.5, 6.6, 84.7, 13.2, 25.3, 99.0]\n"
     ]
    }
   ],
   "source": [
    "print(l1)\n",
    "print(mais10perc(l1))\n",
    "print(mais10perc2(l1))"
   ]
  },
  {
   "cell_type": "markdown",
   "metadata": {},
   "source": [
    "### 4) Dada uma lista L de números inteiros, escreva uma função que imprima os itens de L de trás para frente, sem utilizar reverse().\n"
   ]
  },
  {
   "cell_type": "code",
   "execution_count": 18,
   "metadata": {},
   "outputs": [
    {
     "data": {
      "text/plain": [
       "[90, 23, 12, 77, 6, 5, 34, 2]"
      ]
     },
     "execution_count": 18,
     "metadata": {},
     "output_type": "execute_result"
    }
   ],
   "source": [
    "l1"
   ]
  },
  {
   "cell_type": "code",
   "execution_count": 16,
   "metadata": {},
   "outputs": [],
   "source": [
    "l1[]"
   ]
  },
  {
   "cell_type": "code",
   "execution_count": 17,
   "metadata": {},
   "outputs": [
    {
     "data": {
      "text/plain": [
       "[90, 23, 12, 77, 6, 5, 34, 2]"
      ]
     },
     "execution_count": 17,
     "metadata": {},
     "output_type": "execute_result"
    }
   ],
   "source": [
    "l1"
   ]
  },
  {
   "cell_type": "markdown",
   "metadata": {},
   "source": [
    "### 5) Dada uma lista L de números inteiros, escreva uma função que retorne uma lista P contendo os itens de L sem repetição\n"
   ]
  },
  {
   "cell_type": "code",
   "execution_count": null,
   "metadata": {},
   "outputs": [],
   "source": []
  },
  {
   "cell_type": "markdown",
   "metadata": {},
   "source": [
    "### 6)  Dada uma lista L de números inteiros, escreva uma função que imprima os índices de todas as ocorrências de um número especificado.\n"
   ]
  },
  {
   "cell_type": "code",
   "execution_count": null,
   "metadata": {},
   "outputs": [],
   "source": []
  },
  {
   "cell_type": "markdown",
   "metadata": {},
   "source": [
    "### 7) Dada uma lista L de números inteiros, escreva uma função que retorne uma lista P com os valores ordenados de P, agrupados em números pares primeiro e ímpares depois.\n"
   ]
  },
  {
   "cell_type": "code",
   "execution_count": null,
   "metadata": {},
   "outputs": [],
   "source": []
  },
  {
   "cell_type": "markdown",
   "metadata": {},
   "source": [
    "### 8) Faça um programa que leia duas listas com 10 elementos cada. Gere uma terceira lista de 20 elementos, cujos valores deverão ser compostos pelos elementos intercalados das duas outras listas.\n"
   ]
  },
  {
   "cell_type": "code",
   "execution_count": null,
   "metadata": {},
   "outputs": [],
   "source": []
  }
 ],
 "metadata": {
  "kernelspec": {
   "display_name": "Python 3",
   "language": "python",
   "name": "python3"
  },
  "language_info": {
   "codemirror_mode": {
    "name": "ipython",
    "version": 3
   },
   "file_extension": ".py",
   "mimetype": "text/x-python",
   "name": "python",
   "nbconvert_exporter": "python",
   "pygments_lexer": "ipython3",
   "version": "3.7.4"
  }
 },
 "nbformat": 4,
 "nbformat_minor": 2
}
